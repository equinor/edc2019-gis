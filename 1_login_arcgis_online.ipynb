{
 "cells": [
  {
   "cell_type": "markdown",
   "metadata": {},
   "source": [
    "The first step is to import the ArcGIS API for Python in your notebook: \n",
    "\n",
    "The arcgis.gis module provides an information model for GIS hosted within Mabhub. This module provides functionality to manage (create, read, update and delete) GIS users, groups and content. This module is the most important and provides the entry point into the GIS."
   ]
  },
  {
   "cell_type": "code",
   "execution_count": 11,
   "metadata": {},
   "outputs": [],
   "source": [
    "from arcgis.gis import GIS"
   ]
  },
  {
   "cell_type": "markdown",
   "metadata": {},
   "source": [
    "Create an anonymous connection to ArcGIS Online as shown below:"
   ]
  },
  {
   "cell_type": "code",
   "execution_count": 12,
   "metadata": {},
   "outputs": [],
   "source": [
    "gis = GIS()"
   ]
  },
  {
   "cell_type": "code",
   "execution_count": 13,
   "metadata": {},
   "outputs": [],
   "source": [
    "public_content = gis.content.search(\"Fire\", item_type=\"Feature Layer\", max_items=5)"
   ]
  },
  {
   "cell_type": "code",
   "execution_count": 14,
   "metadata": {},
   "outputs": [
    {
     "name": "stdout",
     "output_type": "stream",
     "text": [
      "[<Item title:\"Fire Locations - Current\" type:Feature Layer Collection owner:databcfme>, <Item title:\"SODAR (Central): Camp Swift Fire Experiment 2014\" type:Feature Layer Collection owner:USFSPacNWResearchStation>, <Item title:\"Fire Perimeters - Current\" type:Feature Layer Collection owner:databcfme>, <Item title:\"AK Wildland Fire Protecting Agencies\" type:Feature Layer Collection owner:jljenkins@blm.gov_BLM_EGIS>, <Item title:\"Fire Behavior Packages Burn Block 1: Camp Swift Fire Experiment 2014\" type:Feature Layer Collection owner:USFSPacNWResearchStation>]\n"
     ]
    }
   ],
   "source": [
    "print(public_content)"
   ]
  },
  {
   "cell_type": "markdown",
   "metadata": {},
   "source": [
    "Print the web map we wil use "
   ]
  },
  {
   "cell_type": "code",
   "execution_count": 15,
   "metadata": {},
   "outputs": [
    {
     "data": {
      "text/html": [
       "<div class=\"item_container\" style=\"height: auto; overflow: hidden; border: 1px solid #cfcfcf; border-radius: 2px; background: #f6fafa; line-height: 1.21429em; padding: 10px;\">\n",
       "                    <div class=\"item_left\" style=\"width: 210px; float: left;\">\n",
       "                       <a href='https://www.arcgis.com/home/item.html?id=397a1defe7f04c2b8ef6511f6c087dbf' target='_blank'>\n",
       "                        <img src='https://www.arcgis.com/sharing/rest//content/items/397a1defe7f04c2b8ef6511f6c087dbf/info/thumbnail/thumbnail1568936800669.png' class=\"itemThumbnail\">\n",
       "                       </a>\n",
       "                    </div>\n",
       "\n",
       "                    <div class=\"item_right\"     style=\"float: none; width: auto; overflow: hidden;\">\n",
       "                        <a href='https://www.arcgis.com/home/item.html?id=397a1defe7f04c2b8ef6511f6c087dbf' target='_blank'><b>Fire Locations - Current</b>\n",
       "                        </a>\n",
       "                        <br/>Wildfire location points for the current fire season. This includes bot...<img src='https://www.arcgis.com/home/js/jsapi/esri/css/images/item_type_icons/featureshosted16.png' style=\"vertical-align:middle;\">Feature Layer Collection by databcfme\n",
       "                        <br/>Last Modified: September 20, 2019\n",
       "                        <br/>0 comments, 14748122 views\n",
       "                    </div>\n",
       "                </div>\n",
       "                "
      ],
      "text/plain": [
       "<Item title:\"Fire Locations - Current\" type:Feature Layer Collection owner:databcfme>"
      ]
     },
     "execution_count": 15,
     "metadata": {},
     "output_type": "execute_result"
    }
   ],
   "source": [
    "public_content[0]"
   ]
  },
  {
   "cell_type": "code",
   "execution_count": 16,
   "metadata": {},
   "outputs": [
    {
     "data": {
      "text/html": [
       "<div class=\"item_container\" style=\"height: auto; overflow: hidden; border: 1px solid #cfcfcf; border-radius: 2px; background: #f6fafa; line-height: 1.21429em; padding: 10px;\">\n",
       "                    <div class=\"item_left\" style=\"width: 210px; float: left;\">\n",
       "                       <a href='https://www.arcgis.com/home/item.html?id=397a1defe7f04c2b8ef6511f6c087dbf' target='_blank'>\n",
       "                        <img src='https://www.arcgis.com/sharing/rest//content/items/397a1defe7f04c2b8ef6511f6c087dbf/info/thumbnail/thumbnail1568936800669.png' class=\"itemThumbnail\">\n",
       "                       </a>\n",
       "                    </div>\n",
       "\n",
       "                    <div class=\"item_right\"     style=\"float: none; width: auto; overflow: hidden;\">\n",
       "                        <a href='https://www.arcgis.com/home/item.html?id=397a1defe7f04c2b8ef6511f6c087dbf' target='_blank'><b>Fire Locations - Current</b>\n",
       "                        </a>\n",
       "                        <br/>Wildfire location points for the current fire season. This includes bot...<img src='https://www.arcgis.com/home/js/jsapi/esri/css/images/item_type_icons/featureshosted16.png' style=\"vertical-align:middle;\">Feature Layer Collection by databcfme\n",
       "                        <br/>Last Modified: September 20, 2019\n",
       "                        <br/>0 comments, 14748122 views\n",
       "                    </div>\n",
       "                </div>\n",
       "                "
      ],
      "text/plain": [
       "<Item title:\"Fire Locations - Current\" type:Feature Layer Collection owner:databcfme>"
      ]
     },
     "metadata": {},
     "output_type": "display_data"
    },
    {
     "data": {
      "text/html": [
       "<div class=\"item_container\" style=\"height: auto; overflow: hidden; border: 1px solid #cfcfcf; border-radius: 2px; background: #f6fafa; line-height: 1.21429em; padding: 10px;\">\n",
       "                    <div class=\"item_left\" style=\"width: 210px; float: left;\">\n",
       "                       <a href='https://www.arcgis.com/home/item.html?id=766ac36b72024c99983a5b7c4e1a8788' target='_blank'>\n",
       "                        <img src='https://www.arcgis.com/sharing/rest//content/items/766ac36b72024c99983a5b7c4e1a8788/info/thumbnail/thumbnail.png' class=\"itemThumbnail\">\n",
       "                       </a>\n",
       "                    </div>\n",
       "\n",
       "                    <div class=\"item_right\"     style=\"float: none; width: auto; overflow: hidden;\">\n",
       "                        <a href='https://www.arcgis.com/home/item.html?id=766ac36b72024c99983a5b7c4e1a8788' target='_blank'><b>SODAR (Central): Camp Swift Fire Experiment 2014</b>\n",
       "                        </a>\n",
       "                        <br/>This data publication contains measurements from a Sound Detecting and Ranging (SODAR) unit collected as part of a prescribed fire research campaign conducted at the Camp Swift Military Base in Bastrop County, Texas on January 15, 2014.<img src='https://www.arcgis.com/home/js/jsapi/esri/css/images/item_type_icons/featureshosted16.png' style=\"vertical-align:middle;\">Feature Layer Collection by USFSPacNWResearchStation\n",
       "                        <br/>Last Modified: September 28, 2018\n",
       "                        <br/>0 comments, 9592 views\n",
       "                    </div>\n",
       "                </div>\n",
       "                "
      ],
      "text/plain": [
       "<Item title:\"SODAR (Central): Camp Swift Fire Experiment 2014\" type:Feature Layer Collection owner:USFSPacNWResearchStation>"
      ]
     },
     "metadata": {},
     "output_type": "display_data"
    },
    {
     "data": {
      "text/html": [
       "<div class=\"item_container\" style=\"height: auto; overflow: hidden; border: 1px solid #cfcfcf; border-radius: 2px; background: #f6fafa; line-height: 1.21429em; padding: 10px;\">\n",
       "                    <div class=\"item_left\" style=\"width: 210px; float: left;\">\n",
       "                       <a href='https://www.arcgis.com/home/item.html?id=6ed3ec9b90f844fcaf9fea499bacae8e' target='_blank'>\n",
       "                        <img src='https://www.arcgis.com/sharing/rest//content/items/6ed3ec9b90f844fcaf9fea499bacae8e/info/thumbnail/ago_downloaded.png' class=\"itemThumbnail\">\n",
       "                       </a>\n",
       "                    </div>\n",
       "\n",
       "                    <div class=\"item_right\"     style=\"float: none; width: auto; overflow: hidden;\">\n",
       "                        <a href='https://www.arcgis.com/home/item.html?id=6ed3ec9b90f844fcaf9fea499bacae8e' target='_blank'><b>Fire Perimeters - Current</b>\n",
       "                        </a>\n",
       "                        <br/>Wildfire perimeters for the current fire season, including both active a...<img src='https://www.arcgis.com/home/js/jsapi/esri/css/images/item_type_icons/featureshosted16.png' style=\"vertical-align:middle;\">Feature Layer Collection by databcfme\n",
       "                        <br/>Last Modified: June 13, 2019\n",
       "                        <br/>0 comments, 11418282 views\n",
       "                    </div>\n",
       "                </div>\n",
       "                "
      ],
      "text/plain": [
       "<Item title:\"Fire Perimeters - Current\" type:Feature Layer Collection owner:databcfme>"
      ]
     },
     "metadata": {},
     "output_type": "display_data"
    },
    {
     "data": {
      "text/html": [
       "<div class=\"item_container\" style=\"height: auto; overflow: hidden; border: 1px solid #cfcfcf; border-radius: 2px; background: #f6fafa; line-height: 1.21429em; padding: 10px;\">\n",
       "                    <div class=\"item_left\" style=\"width: 210px; float: left;\">\n",
       "                       <a href='https://www.arcgis.com/home/item.html?id=a5984891bf9740fb8379b52f6be84ee9' target='_blank'>\n",
       "                        <img src='https://www.arcgis.com/sharing/rest//content/items/a5984891bf9740fb8379b52f6be84ee9/info/thumbnail/thumbnail1556564426737.png' class=\"itemThumbnail\">\n",
       "                       </a>\n",
       "                    </div>\n",
       "\n",
       "                    <div class=\"item_right\"     style=\"float: none; width: auto; overflow: hidden;\">\n",
       "                        <a href='https://www.arcgis.com/home/item.html?id=a5984891bf9740fb8379b52f6be84ee9' target='_blank'><b>AK Wildland Fire Protecting Agencies</b>\n",
       "                        </a>\n",
       "                        <br/>Supplemental data for Alaska Wildland Fire Information web applications and web maps, Alaska Wildland Fire Protection Agencies (aka Fire Management Zones).<img src='https://www.arcgis.com/home/js/jsapi/esri/css/images/item_type_icons/featureshosted16.png' style=\"vertical-align:middle;\">Feature Layer Collection by jljenkins@blm.gov_BLM_EGIS\n",
       "                        <br/>Last Modified: May 08, 2019\n",
       "                        <br/>0 comments, 248152 views\n",
       "                    </div>\n",
       "                </div>\n",
       "                "
      ],
      "text/plain": [
       "<Item title:\"AK Wildland Fire Protecting Agencies\" type:Feature Layer Collection owner:jljenkins@blm.gov_BLM_EGIS>"
      ]
     },
     "metadata": {},
     "output_type": "display_data"
    },
    {
     "data": {
      "text/html": [
       "<div class=\"item_container\" style=\"height: auto; overflow: hidden; border: 1px solid #cfcfcf; border-radius: 2px; background: #f6fafa; line-height: 1.21429em; padding: 10px;\">\n",
       "                    <div class=\"item_left\" style=\"width: 210px; float: left;\">\n",
       "                       <a href='https://www.arcgis.com/home/item.html?id=81a311491e9f40818eda7c6930dbbd92' target='_blank'>\n",
       "                        <img src='https://www.arcgis.com/sharing/rest//content/items/81a311491e9f40818eda7c6930dbbd92/info/thumbnail/thumbnail.png' class=\"itemThumbnail\">\n",
       "                       </a>\n",
       "                    </div>\n",
       "\n",
       "                    <div class=\"item_right\"     style=\"float: none; width: auto; overflow: hidden;\">\n",
       "                        <a href='https://www.arcgis.com/home/item.html?id=81a311491e9f40818eda7c6930dbbd92' target='_blank'><b>Fire Behavior Packages Burn Block 1: Camp Swift Fire Experiment 2014</b>\n",
       "                        </a>\n",
       "                        <br/>This feature service contains fire behavior package measurements occurring around the time of burn block 1 burning at the Camp Swift Fire Experiment 2014. <img src='https://www.arcgis.com/home/js/jsapi/esri/css/images/item_type_icons/featureshosted16.png' style=\"vertical-align:middle;\">Feature Layer Collection by USFSPacNWResearchStation\n",
       "                        <br/>Last Modified: September 28, 2018\n",
       "                        <br/>0 comments, 651 views\n",
       "                    </div>\n",
       "                </div>\n",
       "                "
      ],
      "text/plain": [
       "<Item title:\"Fire Behavior Packages Burn Block 1: Camp Swift Fire Experiment 2014\" type:Feature Layer Collection owner:USFSPacNWResearchStation>"
      ]
     },
     "metadata": {},
     "output_type": "display_data"
    }
   ],
   "source": [
    "from IPython.display import display\n",
    "for item in public_content:\n",
    "    display(item)"
   ]
  },
  {
   "cell_type": "code",
   "execution_count": 17,
   "metadata": {},
   "outputs": [],
   "source": [
    "example_layer = public_content[3]"
   ]
  },
  {
   "cell_type": "code",
   "execution_count": 18,
   "metadata": {},
   "outputs": [],
   "source": [
    "map1 = gis.map()"
   ]
  },
  {
   "cell_type": "code",
   "execution_count": 19,
   "metadata": {},
   "outputs": [],
   "source": [
    "map1.extent = example_layer.extent"
   ]
  },
  {
   "cell_type": "code",
   "execution_count": 20,
   "metadata": {},
   "outputs": [],
   "source": [
    "map1.add_layer(example_layer)"
   ]
  },
  {
   "cell_type": "code",
   "execution_count": 21,
   "metadata": {},
   "outputs": [
    {
     "data": {
      "application/vnd.jupyter.widget-view+json": {
       "model_id": "f725aac4595349cc98400e0d60e1cd39",
       "version_major": 2,
       "version_minor": 0
      },
      "text/plain": [
       "MapView(layout=Layout(height='400px', width='100%'))"
      ]
     },
     "metadata": {},
     "output_type": "display_data"
    },
    {
     "data": {
      "text/html": [
       "<div class=\"map-static-img-preview-1ef0fc30-def3-4711-ad14-887a7a229848\"><img src=\"\"></img></div>"
      ],
      "text/plain": [
       "<IPython.core.display.HTML object>"
      ]
     },
     "metadata": {},
     "output_type": "display_data"
    }
   ],
   "source": [
    "from IPython.display import display\n",
    "display(map1)"
   ]
  },
  {
   "cell_type": "code",
   "execution_count": null,
   "metadata": {},
   "outputs": [],
   "source": []
  }
 ],
 "metadata": {
  "kernelspec": {
   "display_name": "Python 3",
   "language": "python",
   "name": "python3"
  },
  "language_info": {
   "codemirror_mode": {
    "name": "ipython",
    "version": 3
   },
   "file_extension": ".py",
   "mimetype": "text/x-python",
   "name": "python",
   "nbconvert_exporter": "python",
   "pygments_lexer": "ipython3",
   "version": "3.7.4"
  }
 },
 "nbformat": 4,
 "nbformat_minor": 2
}
