{
 "cells": [
  {
   "cell_type": "markdown",
   "metadata": {},
   "source": [
    "The first step is to import the ArcGIS API for Python in your notebook: \n",
    "\n",
    "The arcgis.gis module provides an information model for GIS hosted within Mabhub. This module provides functionality to manage (create, read, update and delete) GIS users, groups and content. This module is the most important and provides the entry point into the GIS."
   ]
  },
  {
   "cell_type": "code",
   "execution_count": 1,
   "metadata": {},
   "outputs": [],
   "source": [
    "from arcgis.gis import GIS"
   ]
  },
  {
   "cell_type": "markdown",
   "metadata": {},
   "source": [
    "Log in to Maphub"
   ]
  },
  {
   "cell_type": "code",
   "execution_count": 2,
   "metadata": {},
   "outputs": [
    {
     "name": "stdout",
     "output_type": "stream",
     "text": [
      "Enter password: ········\n"
     ]
    }
   ],
   "source": [
    "gis = GIS(\"https://maphub.statoil.net:7443/arcgis\", \"demo01\")"
   ]
  },
  {
   "cell_type": "code",
   "execution_count": 3,
   "metadata": {},
   "outputs": [
    {
     "name": "stdout",
     "output_type": "stream",
     "text": [
      "Successfully logged in as: demo01\n"
     ]
    }
   ],
   "source": [
    "print(\"Successfully logged in as: \" + gis.properties.user.username)"
   ]
  },
  {
   "cell_type": "code",
   "execution_count": 4,
   "metadata": {},
   "outputs": [],
   "source": [
    "m = gis.content.search(\"EDC\", item_type=\"Web Map\", max_items=5)"
   ]
  },
  {
   "cell_type": "code",
   "execution_count": 5,
   "metadata": {},
   "outputs": [
    {
     "name": "stdout",
     "output_type": "stream",
     "text": [
      "[<Item title:\"EDC\" type:Web Map owner:TOKJOS@STATOIL-NET>]\n"
     ]
    }
   ],
   "source": [
    "print(m)"
   ]
  },
  {
   "cell_type": "markdown",
   "metadata": {},
   "source": [
    "Print the web map we wil use "
   ]
  },
  {
   "cell_type": "code",
   "execution_count": 6,
   "metadata": {},
   "outputs": [
    {
     "data": {
      "text/html": [
       "<div class=\"item_container\" style=\"height: auto; overflow: hidden; border: 1px solid #cfcfcf; border-radius: 2px; background: #f6fafa; line-height: 1.21429em; padding: 10px;\">\n",
       "                    <div class=\"item_left\" style=\"width: 210px; float: left;\">\n",
       "                       <a href='https://maphub.statoil.net:7443/arcgis/home/item.html?id=308b3d36a6b14a369c403093c9d9ea85' target='_blank'>\n",
       "                        <img src='https://maphub.statoil.net:7443/arcgis/portalimages/desktopapp.png' class=\"itemThumbnail\">\n",
       "                       </a>\n",
       "                    </div>\n",
       "\n",
       "                    <div class=\"item_right\"     style=\"float: none; width: auto; overflow: hidden;\">\n",
       "                        <a href='https://maphub.statoil.net:7443/arcgis/home/item.html?id=308b3d36a6b14a369c403093c9d9ea85' target='_blank'><b>EDC</b>\n",
       "                        </a>\n",
       "                        <br/>Demo map used in Ecuinor Developer Conference<img src='https://maphub.statoil.net:7443/arcgis/home/js/jsapi/esri/css/images/item_type_icons/maps16.png' style=\"vertical-align:middle;\">Web Map by TOKJOS@STATOIL-NET\n",
       "                        <br/>Last Modified: september 12, 2019\n",
       "                        <br/>0 comments, 6 views\n",
       "                    </div>\n",
       "                </div>\n",
       "                "
      ],
      "text/plain": [
       "<Item title:\"EDC\" type:Web Map owner:TOKJOS@STATOIL-NET>"
      ]
     },
     "execution_count": 6,
     "metadata": {},
     "output_type": "execute_result"
    }
   ],
   "source": [
    "m[0]"
   ]
  },
  {
   "cell_type": "code",
   "execution_count": 7,
   "metadata": {},
   "outputs": [],
   "source": [
    "eq_features = gis.content.search(\"Equinor\", item_type=\"Feature Layer\")"
   ]
  },
  {
   "cell_type": "code",
   "execution_count": 8,
   "metadata": {},
   "outputs": [
    {
     "name": "stdout",
     "output_type": "stream",
     "text": [
      "[<Item title:\"Licences, Equinor Interests, Global (GLI) (FS)\" type:Feature Layer Collection owner:admin>, <Item title:\"Countries, Coastlines and Provinces (IHS) (FS)\" type:Feature Layer Collection owner:admin>, <Item title:\"Basins and Subbasins, Global (Statoil GeoX) (FS)\" type:Feature Layer Collection owner:admin>, <Item title:\"Licences, Valid Contracts, Global, (IHS) (FS)\" type:Feature Layer Collection owner:admin>]\n"
     ]
    }
   ],
   "source": [
    "print(eq_features)"
   ]
  },
  {
   "cell_type": "code",
   "execution_count": 13,
   "metadata": {},
   "outputs": [
    {
     "data": {
      "text/html": [
       "<div class=\"item_container\" style=\"height: auto; overflow: hidden; border: 1px solid #cfcfcf; border-radius: 2px; background: #f6fafa; line-height: 1.21429em; padding: 10px;\">\n",
       "                    <div class=\"item_left\" style=\"width: 210px; float: left;\">\n",
       "                       <a href='https://maphub.statoil.net:7443/arcgis/home/item.html?id=dcdcb15926e64ff6aaf71b3375fa64c9' target='_blank'>\n",
       "                        <img src='https://maphub.statoil.net:7443/arcgis/portalimages/desktopapp.png' class=\"itemThumbnail\">\n",
       "                       </a>\n",
       "                    </div>\n",
       "\n",
       "                    <div class=\"item_right\"     style=\"float: none; width: auto; overflow: hidden;\">\n",
       "                        <a href='https://maphub.statoil.net:7443/arcgis/home/item.html?id=dcdcb15926e64ff6aaf71b3375fa64c9' target='_blank'><b>Licences, Valid Contracts, Global, (IHS) (FS)</b>\n",
       "                        </a>\n",
       "                        <br/>Global Overview Licenses with Valid Contracts, both Equinor Interests and All Company Interests<img src='https://maphub.statoil.net:7443/arcgis/home/js/jsapi/esri/css/images/item_type_icons/featureshosted16.png' style=\"vertical-align:middle;\">Feature Layer Collection by admin\n",
       "                        <br/>Last Modified: januar 14, 2019\n",
       "                        <br/>0 comments, 179 views\n",
       "                    </div>\n",
       "                </div>\n",
       "                "
      ],
      "text/plain": [
       "<Item title:\"Licences, Valid Contracts, Global, (IHS) (FS)\" type:Feature Layer Collection owner:admin>"
      ]
     },
     "metadata": {},
     "output_type": "display_data"
    },
    {
     "data": {
      "text/html": [
       "<div class=\"item_container\" style=\"height: auto; overflow: hidden; border: 1px solid #cfcfcf; border-radius: 2px; background: #f6fafa; line-height: 1.21429em; padding: 10px;\">\n",
       "                    <div class=\"item_left\" style=\"width: 210px; float: left;\">\n",
       "                       <a href='https://maphub.statoil.net:7443/arcgis/home/item.html?id=f03fe3c0f9534597a95c4bd98ae55603' target='_blank'>\n",
       "                        <img src='https://maphub.statoil.net:7443/arcgis/portalimages/desktopapp.png' class=\"itemThumbnail\">\n",
       "                       </a>\n",
       "                    </div>\n",
       "\n",
       "                    <div class=\"item_right\"     style=\"float: none; width: auto; overflow: hidden;\">\n",
       "                        <a href='https://maphub.statoil.net:7443/arcgis/home/item.html?id=f03fe3c0f9534597a95c4bd98ae55603' target='_blank'><b>Licences, Equinor Interests, Global (GLI) (FS)</b>\n",
       "                        </a>\n",
       "                        <br/>Equinor equity licences from the Global Licence Information (GLI) system. Does not include US onshore, US offshore, or Canadian onshore licences.<img src='https://maphub.statoil.net:7443/arcgis/home/js/jsapi/esri/css/images/item_type_icons/featureshosted16.png' style=\"vertical-align:middle;\">Feature Layer Collection by admin\n",
       "                        <br/>Last Modified: januar 14, 2019\n",
       "                        <br/>0 comments, 140 views\n",
       "                    </div>\n",
       "                </div>\n",
       "                "
      ],
      "text/plain": [
       "<Item title:\"Licences, Equinor Interests, Global (GLI) (FS)\" type:Feature Layer Collection owner:admin>"
      ]
     },
     "metadata": {},
     "output_type": "display_data"
    },
    {
     "data": {
      "text/html": [
       "<div class=\"item_container\" style=\"height: auto; overflow: hidden; border: 1px solid #cfcfcf; border-radius: 2px; background: #f6fafa; line-height: 1.21429em; padding: 10px;\">\n",
       "                    <div class=\"item_left\" style=\"width: 210px; float: left;\">\n",
       "                       <a href='https://maphub.statoil.net:7443/arcgis/home/item.html?id=aeb6b73ace494da0ae505b94de0c71c0' target='_blank'>\n",
       "                        <img src='data:image/png;base64,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' width='200' height='133' class=\"itemThumbnail\">\n",
       "                       </a>\n",
       "                    </div>\n",
       "\n",
       "                    <div class=\"item_right\"     style=\"float: none; width: auto; overflow: hidden;\">\n",
       "                        <a href='https://maphub.statoil.net:7443/arcgis/home/item.html?id=aeb6b73ace494da0ae505b94de0c71c0' target='_blank'><b>Countries, Coastlines and Provinces (IHS) (FS)</b>\n",
       "                        </a>\n",
       "                        <br/>Countries, Coastlines and Province from IHS Energy.<img src='https://maphub.statoil.net:7443/arcgis/home/js/jsapi/esri/css/images/item_type_icons/featureshosted16.png' style=\"vertical-align:middle;\">Feature Layer Collection by admin\n",
       "                        <br/>Last Modified: januar 14, 2019\n",
       "                        <br/>0 comments, 73 views\n",
       "                    </div>\n",
       "                </div>\n",
       "                "
      ],
      "text/plain": [
       "<Item title:\"Countries, Coastlines and Provinces (IHS) (FS)\" type:Feature Layer Collection owner:admin>"
      ]
     },
     "metadata": {},
     "output_type": "display_data"
    },
    {
     "data": {
      "text/html": [
       "<div class=\"item_container\" style=\"height: auto; overflow: hidden; border: 1px solid #cfcfcf; border-radius: 2px; background: #f6fafa; line-height: 1.21429em; padding: 10px;\">\n",
       "                    <div class=\"item_left\" style=\"width: 210px; float: left;\">\n",
       "                       <a href='https://maphub.statoil.net:7443/arcgis/home/item.html?id=7ca7030e6c784f84b7b5183df92d529a' target='_blank'>\n",
       "                        <img src='data:image/png;base64,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' width='200' height='133' class=\"itemThumbnail\">\n",
       "                       </a>\n",
       "                    </div>\n",
       "\n",
       "                    <div class=\"item_right\"     style=\"float: none; width: auto; overflow: hidden;\">\n",
       "                        <a href='https://maphub.statoil.net:7443/arcgis/home/item.html?id=7ca7030e6c784f84b7b5183df92d529a' target='_blank'><b>Basins and Subbasins, Global (Statoil GeoX) (FS)</b>\n",
       "                        </a>\n",
       "                        <br/>The “Equinor Basins” are a set of polygons drawn around major petroleum systems for the world’s sedimentary basins.<img src='https://maphub.statoil.net:7443/arcgis/home/js/jsapi/esri/css/images/item_type_icons/featureshosted16.png' style=\"vertical-align:middle;\">Feature Layer Collection by admin\n",
       "                        <br/>Last Modified: januar 14, 2019\n",
       "                        <br/>0 comments, 93 views\n",
       "                    </div>\n",
       "                </div>\n",
       "                "
      ],
      "text/plain": [
       "<Item title:\"Basins and Subbasins, Global (Statoil GeoX) (FS)\" type:Feature Layer Collection owner:admin>"
      ]
     },
     "metadata": {},
     "output_type": "display_data"
    }
   ],
   "source": [
    "from IPython.display import display\n",
    "for item in eq_features:\n",
    "    display(item)"
   ]
  },
  {
   "cell_type": "code",
   "execution_count": 14,
   "metadata": {},
   "outputs": [],
   "source": [
    "example_layer = eq_features[3]"
   ]
  },
  {
   "cell_type": "code",
   "execution_count": 15,
   "metadata": {},
   "outputs": [],
   "source": [
    "map1 = gis.map()"
   ]
  },
  {
   "cell_type": "code",
   "execution_count": 16,
   "metadata": {},
   "outputs": [],
   "source": [
    "map1.extent = example_layer.extent"
   ]
  },
  {
   "cell_type": "code",
   "execution_count": 18,
   "metadata": {},
   "outputs": [],
   "source": [
    "map1.add_layer(example_layer)"
   ]
  },
  {
   "cell_type": "code",
   "execution_count": 21,
   "metadata": {},
   "outputs": [
    {
     "data": {
      "application/vnd.jupyter.widget-view+json": {
       "model_id": "6c748ceb2ec14a289c95a5c7e35bb1a7",
       "version_major": 2,
       "version_minor": 0
      },
      "text/plain": [
       "MapView(layout=Layout(height='400px', width='100%'))"
      ]
     },
     "metadata": {},
     "output_type": "display_data"
    }
   ],
   "source": [
    "from IPython.display import display\n",
    "display(map1)"
   ]
  },
  {
   "cell_type": "code",
   "execution_count": null,
   "metadata": {},
   "outputs": [],
   "source": []
  }
 ],
 "metadata": {
  "kernelspec": {
   "display_name": "Python 3",
   "language": "python",
   "name": "python3"
  },
  "language_info": {
   "codemirror_mode": {
    "name": "ipython",
    "version": 3
   },
   "file_extension": ".py",
   "mimetype": "text/x-python",
   "name": "python",
   "nbconvert_exporter": "python",
   "pygments_lexer": "ipython3",
   "version": "3.7.4"
  }
 },
 "nbformat": 4,
 "nbformat_minor": 2
}
