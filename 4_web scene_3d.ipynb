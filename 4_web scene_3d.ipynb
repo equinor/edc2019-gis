{
 "cells": [
  {
   "cell_type": "markdown",
   "metadata": {},
   "source": [
    "The first step is to import the ArcGIS API for Python in your notebook:\n",
    "\n",
    "The arcgis.gis module provides an information model for GIS hosted within Mabhub. This module provides functionality to manage (create, read, update and delete) GIS users, groups and content. \n",
    "\n",
    "This module is the most important and provides the entry point into the GIS."
   ]
  },
  {
   "cell_type": "code",
   "execution_count": 2,
   "metadata": {},
   "outputs": [],
   "source": [
    "from arcgis.gis import GIS"
   ]
  },
  {
   "cell_type": "markdown",
   "metadata": {},
   "source": [
    "Log in to maphub or connect to ArcGIS Online as anonymus user"
   ]
  },
  {
   "cell_type": "code",
   "execution_count": 3,
   "metadata": {},
   "outputs": [],
   "source": [
    "# gis = GIS(\"https://maphub.statoil.net:7443/arcgis\", \"demo01\") # Maphub connection\n",
    "gis = GIS() # ArcGIS Online connection"
   ]
  },
  {
   "cell_type": "markdown",
   "metadata": {},
   "source": [
    "We will go and get an id on maphub. Searh for a layer and copy the id"
   ]
  },
  {
   "cell_type": "code",
   "execution_count": 4,
   "metadata": {},
   "outputs": [
    {
     "data": {
      "text/plain": [
       "[<Item title:\"Visualize New Developments\" type:Web Scene owner:esri_3d>,\n",
       " <Item title:\"Linz, Austria Scene\" type:Web Scene owner:esri_3d>,\n",
       " <Item title:\"Interesting Places\" type:Web Scene owner:dkensok>,\n",
       " <Item title:\"Western Pacific Typhoons (2005)\" type:Web Scene owner:esri_3d>,\n",
       " <Item title:\"Pictometry 3D Scene\" type:Web Scene owner:whitepeterj>,\n",
       " <Item title:\"BAG 3D - Nederland\" type:Web Scene owner:Esri_NL_Content>,\n",
       " <Item title:\"Berlin, Germany Scene\" type:Web Scene owner:esri_3d>,\n",
       " <Item title:\"3D Cities - Nederland\" type:Web Scene owner:Esri_NL_Content>,\n",
       " <Item title:\"Rotterdam, the Netherlands Scene\" type:Web Scene owner:esri_3d>,\n",
       " <Item title:\"Portland, Oregon USA Scene\" type:Web Scene owner:esri_3d>]"
      ]
     },
     "execution_count": 4,
     "metadata": {},
     "output_type": "execute_result"
    }
   ],
   "source": [
    "webscene_search = gis.content.search(query = \"*\", item_type = \"Web Scene\")\n",
    "webscene_search"
   ]
  },
  {
   "cell_type": "markdown",
   "metadata": {},
   "source": [
    "Create a map and add the new layer"
   ]
  },
  {
   "cell_type": "code",
   "execution_count": 5,
   "metadata": {},
   "outputs": [
    {
     "data": {
      "text/html": [
       "<div class=\"item_container\" style=\"height: auto; overflow: hidden; border: 1px solid #cfcfcf; border-radius: 2px; background: #f6fafa; line-height: 1.21429em; padding: 10px;\">\n",
       "                    <div class=\"item_left\" style=\"width: 210px; float: left;\">\n",
       "                       <a href='https://www.arcgis.com/home/item.html?id=46c47340708f446ba7f112f139e8ae5e' target='_blank'>\n",
       "                        <img src='https://www.arcgis.com/sharing/rest//content/items/46c47340708f446ba7f112f139e8ae5e/info/thumbnail/thumbnail.png' class=\"itemThumbnail\">\n",
       "                       </a>\n",
       "                    </div>\n",
       "\n",
       "                    <div class=\"item_right\"     style=\"float: none; width: auto; overflow: hidden;\">\n",
       "                        <a href='https://www.arcgis.com/home/item.html?id=46c47340708f446ba7f112f139e8ae5e' target='_blank'><b>3D Cities - Nederland</b>\n",
       "                        </a>\n",
       "                        <br/>Deze webscene bevat 3D-gebouwen van een aantal gemeenten. De gebouwen van deze gemeenten hebben het LOD2 detailniveau. Dit wil zeggen dat het gebouwen zijn met dakvorm.<img src='https://www.arcgis.com/home/js/jsapi/esri/css/images/item_type_icons/websceneglobal16.png' style=\"vertical-align:middle;\">Web Scene by Esri_NL_Content\n",
       "                        <br/>Last Modified: May 28, 2019\n",
       "                        <br/>0 comments, 7192 views\n",
       "                    </div>\n",
       "                </div>\n",
       "                "
      ],
      "text/plain": [
       "<Item title:\"3D Cities - Nederland\" type:Web Scene owner:Esri_NL_Content>"
      ]
     },
     "execution_count": 5,
     "metadata": {},
     "output_type": "execute_result"
    }
   ],
   "source": [
    "webscene_item = webscene_search[7]\n",
    "webscene_item"
   ]
  },
  {
   "cell_type": "markdown",
   "metadata": {},
   "source": [
    "Import the WebScene class from the arcgis.mapping module and visualize the web scene.\n",
    "from arcgis.mapping import WebScene"
   ]
  },
  {
   "cell_type": "code",
   "execution_count": 6,
   "metadata": {},
   "outputs": [
    {
     "data": {
      "application/vnd.jupyter.widget-view+json": {
       "model_id": "cf1d56e516e144ccb392482434be1c4a",
       "version_major": 2,
       "version_minor": 0
      },
      "text/plain": [
       "MapView(hide_mode_switch=True, layout=Layout(height='400px', width='100%'), mode='3D')"
      ]
     },
     "metadata": {},
     "output_type": "display_data"
    },
    {
     "data": {
      "text/html": [
       "<div class=\"map-static-img-preview-5753b2ea-99dc-4f7a-82b2-b124ce98bc1a\"><img src=\"\"></img></div>"
      ],
      "text/plain": [
       "<IPython.core.display.HTML object>"
      ]
     },
     "metadata": {},
     "output_type": "display_data"
    }
   ],
   "source": [
    "from arcgis.mapping import WebScene\n",
    "\n",
    "map_3d = WebScene(webscene_item)\n",
    "map_3d"
   ]
  },
  {
   "cell_type": "markdown",
   "metadata": {},
   "source": [
    "Display the map"
   ]
  },
  {
   "cell_type": "code",
   "execution_count": 9,
   "metadata": {},
   "outputs": [
    {
     "name": "stdout",
     "output_type": "stream",
     "text": [
      "The web scene has 1 layers.\n"
     ]
    }
   ],
   "source": [
    "map_3d_layers = map_3d['operationalLayers']\n",
    "num_of_layers = len(map_3d_layers)\n",
    "print(\"The web scene has {} layers.\".format(num_of_layers))"
   ]
  },
  {
   "cell_type": "markdown",
   "metadata": {},
   "source": [
    "View the layers endpoint"
   ]
  },
  {
   "cell_type": "code",
   "execution_count": 11,
   "metadata": {},
   "outputs": [
    {
     "data": {
      "text/plain": [
       "{'id': '14f927d492a-layer-32',\n",
       " 'opacity': 1,\n",
       " 'title': '3D-Cities',\n",
       " 'visibility': True,\n",
       " 'layers': [{'id': '15ad68461a9-layer-0',\n",
       "   'opacity': 1,\n",
       "   'title': 'Rotterdam 3D-gebouwen',\n",
       "   'url': 'https://tiles.arcgis.com/tiles/P3ePLMYs2RVChkJx/arcgis/rest/services/Building_Rotterdam/SceneServer/layers/0',\n",
       "   'visibility': False,\n",
       "   'layerType': 'ArcGISSceneServiceLayer',\n",
       "   'itemId': '6db845826cec4ebc8d6306b5c0061f7a',\n",
       "   'layerDefinition': {'drawingInfo': {'renderer': {'type': 'simple',\n",
       "      'symbol': {'type': 'MeshSymbol3D',\n",
       "       'symbolLayers': [{'material': {'color': [255, 255, 255]},\n",
       "         'type': 'Fill'}]}}}}},\n",
       "  {'id': '15997a0e762-layer-1',\n",
       "   'opacity': 1,\n",
       "   'title': 'Leeuwarden 3D-gebouwen',\n",
       "   'url': 'https://tiles.arcgis.com/tiles/nSZVuSZjHpEZZbRo/arcgis/rest/services/Leeuwarden_3D/SceneServer/layers/0',\n",
       "   'visibility': False,\n",
       "   'layerType': 'ArcGISSceneServiceLayer',\n",
       "   'itemId': '1112c8ed886e4f618f01f8bb6acdc213'},\n",
       "  {'id': '15997a0f9c4-layer-2',\n",
       "   'opacity': 1,\n",
       "   'title': 'Eindhoven 3D-gebouwen',\n",
       "   'url': 'https://tiles.arcgis.com/tiles/nSZVuSZjHpEZZbRo/arcgis/rest/services/Eindhoven_3D/SceneServer/layers/0',\n",
       "   'visibility': False,\n",
       "   'layerType': 'ArcGISSceneServiceLayer',\n",
       "   'itemId': '856f7735749b4c41abd1d01eb2b76092'},\n",
       "  {'id': '15997a10d76-layer-3',\n",
       "   'opacity': 1,\n",
       "   'title': 'Den Haag 3D-gebouwen',\n",
       "   'url': 'https://tiles.arcgis.com/tiles/nSZVuSZjHpEZZbRo/arcgis/rest/services/Den_Haag_3D/SceneServer/layers/0',\n",
       "   'visibility': False,\n",
       "   'layerType': 'ArcGISSceneServiceLayer',\n",
       "   'itemId': '3dc235b7ef9a44a9a4326957ce24fbcb'},\n",
       "  {'id': '15997a12028-layer-4',\n",
       "   'opacity': 1,\n",
       "   'title': \"'s Hertogenbosch 3D-gebouwen\",\n",
       "   'url': 'https://tiles.arcgis.com/tiles/nSZVuSZjHpEZZbRo/arcgis/rest/services/Den_Bosch_3D/SceneServer/layers/0',\n",
       "   'visibility': False,\n",
       "   'layerType': 'ArcGISSceneServiceLayer',\n",
       "   'itemId': 'd1a576e484e244e58af3c6cb3480ac0c'},\n",
       "  {'id': '15997a0e1a9-layer-0',\n",
       "   'opacity': 1,\n",
       "   'disablePopup': True,\n",
       "   'title': 'Amsterdam 3D-gebouwen',\n",
       "   'url': 'https://tiles.arcgis.com/tiles/nSZVuSZjHpEZZbRo/arcgis/rest/services/Amsterdam_3D/SceneServer/layers/0',\n",
       "   'visibility': True,\n",
       "   'layerType': 'ArcGISSceneServiceLayer',\n",
       "   'itemId': 'db5028160b5c481986fc71681c195d5b'}],\n",
       " 'layerType': 'GroupLayer'}"
      ]
     },
     "metadata": {},
     "output_type": "display_data"
    }
   ],
   "source": [
    "for item in map_3d_layers:\n",
    "    display(item)          "
   ]
  },
  {
   "cell_type": "markdown",
   "metadata": {},
   "source": [
    "Retrieve field(s) from the layer endpoint"
   ]
  },
  {
   "cell_type": "code",
   "execution_count": 12,
   "metadata": {},
   "outputs": [
    {
     "name": "stdout",
     "output_type": "stream",
     "text": [
      "3D-Cities\n"
     ]
    }
   ],
   "source": [
    "for layer in map_3d_layers:\n",
    "    print(layer['title'])"
   ]
  },
  {
   "cell_type": "code",
   "execution_count": null,
   "metadata": {},
   "outputs": [],
   "source": []
  }
 ],
 "metadata": {
  "kernelspec": {
   "display_name": "Python 3",
   "language": "python",
   "name": "python3"
  },
  "language_info": {
   "codemirror_mode": {
    "name": "ipython",
    "version": 3
   },
   "file_extension": ".py",
   "mimetype": "text/x-python",
   "name": "python",
   "nbconvert_exporter": "python",
   "pygments_lexer": "ipython3",
   "version": "3.7.4"
  }
 },
 "nbformat": 4,
 "nbformat_minor": 2
}
