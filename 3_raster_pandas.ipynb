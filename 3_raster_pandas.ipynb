{
 "cells": [
  {
   "cell_type": "code",
   "execution_count": 1,
   "metadata": {},
   "outputs": [],
   "source": [
    "#Test\n",
    "from arcgis.gis import GIS\n",
    "from arcgis.raster import functions\n",
    "from arcgis.mapping import WebMap"
   ]
  },
  {
   "cell_type": "code",
   "execution_count": 9,
   "metadata": {},
   "outputs": [],
   "source": [
    "gis= GIS()"
   ]
  },
  {
   "cell_type": "code",
   "execution_count": 10,
   "metadata": {},
   "outputs": [],
   "source": [
    "hydmap = gis.map(\"Norway\")"
   ]
  },
  {
   "cell_type": "code",
   "execution_count": 11,
   "metadata": {
    "scrolled": true
   },
   "outputs": [
    {
     "data": {
      "application/vnd.jupyter.widget-view+json": {
       "model_id": "4f3edcc3499c4eb49ee1953ec1f643ae",
       "version_major": 2,
       "version_minor": 0
      },
      "text/plain": [
       "MapView(layout=Layout(height='400px', width='100%'))"
      ]
     },
     "metadata": {},
     "output_type": "display_data"
    }
   ],
   "source": [
    "hydmap"
   ]
  },
  {
   "cell_type": "code",
   "execution_count": 12,
   "metadata": {},
   "outputs": [],
   "source": [
    "landsat_item = gis.content.search ('title:Multispectral Landsat', 'Imagery Layer', outside_org=True)[0]"
   ]
  },
  {
   "cell_type": "code",
   "execution_count": 13,
   "metadata": {},
   "outputs": [
    {
     "data": {
      "text/html": [
       "<div class=\"item_container\" style=\"height: auto; overflow: hidden; border: 1px solid #cfcfcf; border-radius: 2px; background: #f6fafa; line-height: 1.21429em; padding: 10px;\">\n",
       "                    <div class=\"item_left\" style=\"width: 210px; float: left;\">\n",
       "                       <a href='https://www.arcgis.com/home/item.html?id=d9b466d6a9e647ce8d1dd5fe12eb434b' target='_blank'>\n",
       "                        <img src='https://www.arcgis.com/sharing/rest//content/items/d9b466d6a9e647ce8d1dd5fe12eb434b/info/thumbnail/ago_downloaded.jpg' class=\"itemThumbnail\">\n",
       "                       </a>\n",
       "                    </div>\n",
       "\n",
       "                    <div class=\"item_right\"     style=\"float: none; width: auto; overflow: hidden;\">\n",
       "                        <a href='https://www.arcgis.com/home/item.html?id=d9b466d6a9e647ce8d1dd5fe12eb434b' target='_blank'><b>Multispectral Landsat</b>\n",
       "                        </a>\n",
       "                        <br/>Landsat multispectral and multitemporal imagery with on-the-fly renderings and indices for visualization and analysis.  The Landsat 8 imagery in this layer is updated daily and is directly sourced from the Landsat on AWS collection.<img src='https://www.arcgis.com/home/js/jsapi/esri/css/images/item_type_icons/imagery16.png' style=\"vertical-align:middle;\">Imagery Layer by esri\n",
       "                        <br/>Last Modified: September 05, 2019\n",
       "                        <br/>0 comments, 178,261 views\n",
       "                    </div>\n",
       "                </div>\n",
       "                "
      ],
      "text/plain": [
       "<Item title:\"Multispectral Landsat\" type:Imagery Layer owner:esri>"
      ]
     },
     "execution_count": 13,
     "metadata": {},
     "output_type": "execute_result"
    }
   ],
   "source": [
    "landsat_item"
   ]
  },
  {
   "cell_type": "code",
   "execution_count": 14,
   "metadata": {},
   "outputs": [],
   "source": [
    "landsat = landsat_item.layers[0]"
   ]
  },
  {
   "cell_type": "code",
   "execution_count": 16,
   "metadata": {},
   "outputs": [
    {
     "data": {
      "application/vnd.jupyter.widget-view+json": {
       "model_id": "3982b42ec77c430a8c3d46a796b57631",
       "version_major": 2,
       "version_minor": 0
      },
      "text/plain": [
       "MapView(layout=Layout(height='400px', width='100%'), zoom=12.0)"
      ]
     },
     "metadata": {},
     "output_type": "display_data"
    }
   ],
   "source": [
    "imagery_map = gis.map('Mongstad', zoomlevel=12)\n",
    "imagery_map.add_layer(landsat)\n",
    "imagery_map"
   ]
  },
  {
   "cell_type": "code",
   "execution_count": 17,
   "metadata": {},
   "outputs": [
    {
     "name": "stdout",
     "output_type": "stream",
     "text": [
      "Agriculture with DRA\n",
      "Bathymetric with DRA\n",
      "Color Infrared with DRA\n",
      "Natural Color with DRA\n",
      "Short-wave Infrared with DRA\n",
      "Geology with DRA\n",
      "Agriculture\n",
      "Bathymetric\n",
      "Color Infrared\n",
      "Geology\n",
      "Natural Color\n",
      "Short-wave Infrared\n",
      "NDVI Colorized\n",
      "Normalized Difference Moisture Index Colorized\n",
      "NDVI Raw\n",
      "NBR Raw\n",
      "Band 10 Surface Temperature in Fahrenheit\n",
      "Band 11 Surface Temperature in Fahrenheit\n",
      "Band 10 Surface Temperature in Celsius\n",
      "Band 11 Surface Temperature in Celsius\n",
      "None\n"
     ]
    }
   ],
   "source": [
    "for rasterfunc in landsat.properties.rasterFunctionInfos:\n",
    "    print(rasterfunc.name)\n",
    "    imagery_map.add_layer(functions.apply(landsat,rasterfunc.name))\n",
    "    time.sleep(5)"
   ]
  },
  {
   "cell_type": "code",
   "execution_count": 18,
   "metadata": {},
   "outputs": [],
   "source": [
    "import pandas as pd"
   ]
  },
  {
   "cell_type": "code",
   "execution_count": 19,
   "metadata": {},
   "outputs": [
    {
     "data": {
      "text/html": [
       "<div>\n",
       "<style scoped>\n",
       "    .dataframe tbody tr th:only-of-type {\n",
       "        vertical-align: middle;\n",
       "    }\n",
       "\n",
       "    .dataframe tbody tr th {\n",
       "        vertical-align: top;\n",
       "    }\n",
       "\n",
       "    .dataframe thead th {\n",
       "        text-align: right;\n",
       "    }\n",
       "</style>\n",
       "<table border=\"1\" class=\"dataframe\">\n",
       "  <thead>\n",
       "    <tr style=\"text-align: right;\">\n",
       "      <th></th>\n",
       "      <th>BandName</th>\n",
       "      <th>WavelengthMax</th>\n",
       "      <th>WavelengthMin</th>\n",
       "    </tr>\n",
       "  </thead>\n",
       "  <tbody>\n",
       "    <tr>\n",
       "      <th>0</th>\n",
       "      <td>CoastalAerosol</td>\n",
       "      <td>450</td>\n",
       "      <td>430</td>\n",
       "    </tr>\n",
       "    <tr>\n",
       "      <th>1</th>\n",
       "      <td>Blue</td>\n",
       "      <td>510</td>\n",
       "      <td>450</td>\n",
       "    </tr>\n",
       "    <tr>\n",
       "      <th>2</th>\n",
       "      <td>Green</td>\n",
       "      <td>590</td>\n",
       "      <td>530</td>\n",
       "    </tr>\n",
       "    <tr>\n",
       "      <th>3</th>\n",
       "      <td>Red</td>\n",
       "      <td>670</td>\n",
       "      <td>640</td>\n",
       "    </tr>\n",
       "    <tr>\n",
       "      <th>4</th>\n",
       "      <td>NearInfrared</td>\n",
       "      <td>880</td>\n",
       "      <td>850</td>\n",
       "    </tr>\n",
       "    <tr>\n",
       "      <th>5</th>\n",
       "      <td>ShortWaveInfrared_1</td>\n",
       "      <td>1650</td>\n",
       "      <td>1570</td>\n",
       "    </tr>\n",
       "    <tr>\n",
       "      <th>6</th>\n",
       "      <td>ShortWaveInfrared_2</td>\n",
       "      <td>2290</td>\n",
       "      <td>2110</td>\n",
       "    </tr>\n",
       "    <tr>\n",
       "      <th>7</th>\n",
       "      <td>Cirrus</td>\n",
       "      <td>1380</td>\n",
       "      <td>1360</td>\n",
       "    </tr>\n",
       "    <tr>\n",
       "      <th>8</th>\n",
       "      <td>QA</td>\n",
       "      <td>0</td>\n",
       "      <td>0</td>\n",
       "    </tr>\n",
       "    <tr>\n",
       "      <th>9</th>\n",
       "      <td>ThermalInfrared1</td>\n",
       "      <td>11190</td>\n",
       "      <td>10600</td>\n",
       "    </tr>\n",
       "    <tr>\n",
       "      <th>10</th>\n",
       "      <td>ThermalInfrared2</td>\n",
       "      <td>12510</td>\n",
       "      <td>11500</td>\n",
       "    </tr>\n",
       "  </tbody>\n",
       "</table>\n",
       "</div>"
      ],
      "text/plain": [
       "               BandName  WavelengthMax  WavelengthMin\n",
       "0        CoastalAerosol            450            430\n",
       "1                  Blue            510            450\n",
       "2                 Green            590            530\n",
       "3                   Red            670            640\n",
       "4          NearInfrared            880            850\n",
       "5   ShortWaveInfrared_1           1650           1570\n",
       "6   ShortWaveInfrared_2           2290           2110\n",
       "7                Cirrus           1380           1360\n",
       "8                    QA              0              0\n",
       "9      ThermalInfrared1          11190          10600\n",
       "10     ThermalInfrared2          12510          11500"
      ]
     },
     "execution_count": 19,
     "metadata": {},
     "output_type": "execute_result"
    }
   ],
   "source": [
    "pd.DataFrame(landsat.key_properties()['BandProperties'])"
   ]
  },
  {
   "cell_type": "code",
   "execution_count": 20,
   "metadata": {},
   "outputs": [],
   "source": [
    "from arcgis.raster.functions import stretch, extract_band"
   ]
  },
  {
   "cell_type": "code",
   "execution_count": null,
   "metadata": {},
   "outputs": [],
   "source": []
  },
  {
   "cell_type": "code",
   "execution_count": 21,
   "metadata": {},
   "outputs": [
    {
     "data": {
      "application/vnd.jupyter.widget-view+json": {
       "model_id": "40063bead69c4832867311059e2f6fe3",
       "version_major": 2,
       "version_minor": 0
      },
      "text/plain": [
       "MapView(layout=Layout(height='400px', width='100%'), zoom=12.0)"
      ]
     },
     "metadata": {},
     "output_type": "display_data"
    }
   ],
   "source": [
    "imagery_map = gis.map('Kaland', zoomlevel=12)\n",
    "imagery_map.add_layer(functions.apply(landsat,\"Short-wave Infrared with DRA\"))\n",
    "imagery_map"
   ]
  },
  {
   "cell_type": "code",
   "execution_count": 22,
   "metadata": {},
   "outputs": [],
   "source": []
  },
  {
   "cell_type": "code",
   "execution_count": null,
   "metadata": {},
   "outputs": [],
   "source": []
  }
 ],
 "metadata": {
  "kernelspec": {
   "display_name": "Python 3",
   "language": "python",
   "name": "python3"
  },
  "language_info": {
   "codemirror_mode": {
    "name": "ipython",
    "version": 3
   },
   "file_extension": ".py",
   "mimetype": "text/x-python",
   "name": "python",
   "nbconvert_exporter": "python",
   "pygments_lexer": "ipython3",
   "version": "3.7.4"
  }
 },
 "nbformat": 4,
 "nbformat_minor": 2
}
