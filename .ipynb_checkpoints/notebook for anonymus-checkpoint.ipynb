{
 "cells": [
  {
   "cell_type": "code",
   "execution_count": 1,
   "metadata": {},
   "outputs": [],
   "source": [
    "from arcgis.gis import GIS"
   ]
  },
  {
   "cell_type": "code",
   "execution_count": 13,
   "metadata": {},
   "outputs": [],
   "source": [
    "gis = GIS(\"https://maphub.statoil.net/arcgis/home/\")"
   ]
  },
  {
   "cell_type": "code",
   "execution_count": 14,
   "metadata": {},
   "outputs": [
    {
     "name": "stdout",
     "output_type": "stream",
     "text": [
      "Successfully logged in as: TOKJOS@STATOIL-NET\n"
     ]
    }
   ],
   "source": [
    "print(\"Successfully logged in as: \" + gis.properties.user.username)"
   ]
  },
  {
   "cell_type": "code",
   "execution_count": 4,
   "metadata": {},
   "outputs": [],
   "source": [
    "m = gis.content.search(\"EDC\", item_type=\"Web Map\", max_items=5)"
   ]
  },
  {
   "cell_type": "code",
   "execution_count": 5,
   "metadata": {},
   "outputs": [
    {
     "name": "stdout",
     "output_type": "stream",
     "text": [
      "[<Item title:\"EDC\" type:Web Map owner:TOKJOS@STATOIL-NET>]\n"
     ]
    }
   ],
   "source": [
    "print(m)"
   ]
  },
  {
   "cell_type": "markdown",
   "metadata": {},
   "source": [
    "Print the web map we wil use "
   ]
  },
  {
   "cell_type": "code",
   "execution_count": 6,
   "metadata": {},
   "outputs": [
    {
     "data": {
      "text/html": [
       "<div class=\"item_container\" style=\"height: auto; overflow: hidden; border: 1px solid #cfcfcf; border-radius: 2px; background: #f6fafa; line-height: 1.21429em; padding: 10px;\">\n",
       "                    <div class=\"item_left\" style=\"width: 210px; float: left;\">\n",
       "                       <a href='https://maphub.statoil.net/arcgis/home//home/item.html?id=308b3d36a6b14a369c403093c9d9ea85' target='_blank'>\n",
       "                        <img src='https://maphub.statoil.net/arcgis/portalimages/desktopapp.png' class=\"itemThumbnail\">\n",
       "                       </a>\n",
       "                    </div>\n",
       "\n",
       "                    <div class=\"item_right\"     style=\"float: none; width: auto; overflow: hidden;\">\n",
       "                        <a href='https://maphub.statoil.net/arcgis/home//home/item.html?id=308b3d36a6b14a369c403093c9d9ea85' target='_blank'><b>EDC</b>\n",
       "                        </a>\n",
       "                        <br/>Demo map used in Ecuinor Developer Conference<img src='https://maphub.statoil.net/arcgis/home/js/jsapi/esri/css/images/item_type_icons/maps16.png' style=\"vertical-align:middle;\">Web Map by TOKJOS@STATOIL-NET\n",
       "                        <br/>Last Modified: september 12, 2019\n",
       "                        <br/>0 comments, 2 views\n",
       "                    </div>\n",
       "                </div>\n",
       "                "
      ],
      "text/plain": [
       "<Item title:\"EDC\" type:Web Map owner:TOKJOS@STATOIL-NET>"
      ]
     },
     "execution_count": 6,
     "metadata": {},
     "output_type": "execute_result"
    }
   ],
   "source": [
    "m[0]"
   ]
  },
  {
   "cell_type": "code",
   "execution_count": 21,
   "metadata": {},
   "outputs": [],
   "source": [
    "items = gis.content.search()"
   ]
  },
  {
   "cell_type": "code",
   "execution_count": 20,
   "metadata": {},
   "outputs": [
    {
     "data": {
      "text/html": [
       "<div class=\"item_container\" style=\"height: auto; overflow: hidden; border: 1px solid #cfcfcf; border-radius: 2px; background: #f6fafa; line-height: 1.21429em; padding: 10px;\">\n",
       "                    <div class=\"item_left\" style=\"width: 210px; float: left;\">\n",
       "                       <a href='https://maphub.statoil.net/arcgis/home//home/item.html?id=6204d973c31749c29579f8c504721bb2' target='_blank'>\n",
       "                        <img src='https://maphub.statoil.net/arcgis/portalimages/desktopapp.png' class=\"itemThumbnail\">\n",
       "                       </a>\n",
       "                    </div>\n",
       "\n",
       "                    <div class=\"item_right\"     style=\"float: none; width: auto; overflow: hidden;\">\n",
       "                        <a href='https://maphub.statoil.net/arcgis/home//home/item.html?id=6204d973c31749c29579f8c504721bb2' target='_blank'><b>GISP Intro Session</b>\n",
       "                        </a>\n",
       "                        <br/>Test web map for GISP MApHub Intro<img src='https://maphub.statoil.net/arcgis/home/js/jsapi/esri/css/images/item_type_icons/maps16.png' style=\"vertical-align:middle;\">Web Map by PPAW@STATOIL-NET\n",
       "                        <br/>Last Modified: mars 22, 2019\n",
       "                        <br/>1 comments, 28 views\n",
       "                    </div>\n",
       "                </div>\n",
       "                "
      ],
      "text/plain": [
       "<Item title:\"GISP Intro Session\" type:Web Map owner:PPAW@STATOIL-NET>"
      ]
     },
     "metadata": {},
     "output_type": "display_data"
    },
    {
     "data": {
      "text/html": [
       "<div class=\"item_container\" style=\"height: auto; overflow: hidden; border: 1px solid #cfcfcf; border-radius: 2px; background: #f6fafa; line-height: 1.21429em; padding: 10px;\">\n",
       "                    <div class=\"item_left\" style=\"width: 210px; float: left;\">\n",
       "                       <a href='https://maphub.statoil.net/arcgis/home//home/item.html?id=7ec08e5438304dbfa1e26181503e6fa8' target='_blank'>\n",
       "                        <img src='https://maphub.statoil.net/arcgis/sharing/rest//content/items/7ec08e5438304dbfa1e26181503e6fa8/info/thumbnail/ago_downloaded.png' class=\"itemThumbnail\">\n",
       "                       </a>\n",
       "                    </div>\n",
       "\n",
       "                    <div class=\"item_right\"     style=\"float: none; width: auto; overflow: hidden;\">\n",
       "                        <a href='https://maphub.statoil.net/arcgis/home//home/item.html?id=7ec08e5438304dbfa1e26181503e6fa8' target='_blank'><b>Arctic Imagery</b>\n",
       "                        </a>\n",
       "                        <br/>The Arctic Imagery map provides 15m TerraColor imagery for the polar region.<img src='https://maphub.statoil.net/arcgis/home/js/jsapi/esri/css/images/item_type_icons/maps16.png' style=\"vertical-align:middle;\">Web Map by esri_livingatlas\n",
       "                        <br/>Last Modified: april 24, 2018\n",
       "                        <br/>0 comments, 2 views\n",
       "                    </div>\n",
       "                </div>\n",
       "                "
      ],
      "text/plain": [
       "<Item title:\"Arctic Imagery\" type:Web Map owner:esri_livingatlas>"
      ]
     },
     "metadata": {},
     "output_type": "display_data"
    },
    {
     "data": {
      "text/html": [
       "<div class=\"item_container\" style=\"height: auto; overflow: hidden; border: 1px solid #cfcfcf; border-radius: 2px; background: #f6fafa; line-height: 1.21429em; padding: 10px;\">\n",
       "                    <div class=\"item_left\" style=\"width: 210px; float: left;\">\n",
       "                       <a href='https://maphub.statoil.net/arcgis/home//home/item.html?id=95ec649d93d94b18920d2bbad5711f4d' target='_blank'>\n",
       "                        <img src='https://maphub.statoil.net/arcgis/sharing/rest//content/items/95ec649d93d94b18920d2bbad5711f4d/info/thumbnail/ago_downloaded.jpg' class=\"itemThumbnail\">\n",
       "                       </a>\n",
       "                    </div>\n",
       "\n",
       "                    <div class=\"item_right\"     style=\"float: none; width: auto; overflow: hidden;\">\n",
       "                        <a href='https://maphub.statoil.net/arcgis/home//home/item.html?id=95ec649d93d94b18920d2bbad5711f4d' target='_blank'><b>Landsat GLS (NDVI)</b>\n",
       "                        </a>\n",
       "                        <br/>Contains 30 meter resolution Landsat imagery from 1990-2010. Normalized Difference Vegetation Index (NDVI) is a compilation of visible and near infrared bands ranging in value from -1.0 to 1.0, used to measure the vigor of vegetation on Earth.<img src='https://maphub.statoil.net/arcgis/home/js/jsapi/esri/css/images/item_type_icons/maps16.png' style=\"vertical-align:middle;\">Web Map by esri_livingatlas\n",
       "                        <br/>Last Modified: april 24, 2018\n",
       "                        <br/>0 comments, 3 views\n",
       "                    </div>\n",
       "                </div>\n",
       "                "
      ],
      "text/plain": [
       "<Item title:\"Landsat GLS (NDVI)\" type:Web Map owner:esri_livingatlas>"
      ]
     },
     "metadata": {},
     "output_type": "display_data"
    },
    {
     "data": {
      "text/html": [
       "<div class=\"item_container\" style=\"height: auto; overflow: hidden; border: 1px solid #cfcfcf; border-radius: 2px; background: #f6fafa; line-height: 1.21429em; padding: 10px;\">\n",
       "                    <div class=\"item_left\" style=\"width: 210px; float: left;\">\n",
       "                       <a href='https://maphub.statoil.net/arcgis/home//home/item.html?id=810753c5730e4003b6bdd05615515091' target='_blank'>\n",
       "                        <img src='https://maphub.statoil.net/arcgis/sharing/rest//content/items/810753c5730e4003b6bdd05615515091/info/thumbnail/WM_StreetReliefWGS84_small.jpg' class=\"itemThumbnail\">\n",
       "                       </a>\n",
       "                    </div>\n",
       "\n",
       "                    <div class=\"item_right\"     style=\"float: none; width: auto; overflow: hidden;\">\n",
       "                        <a href='https://maphub.statoil.net/arcgis/home//home/item.html?id=810753c5730e4003b6bdd05615515091' target='_blank'><b>Streets (with Relief - WGS84)</b>\n",
       "                        </a>\n",
       "                        <br/>This web map provides a detailed vector basemap for the world featuring a classic Esri street map style including a relief map. It uses WGS84 Geographic, version 2 tiling scheme.<img src='https://maphub.statoil.net/arcgis/home/js/jsapi/esri/css/images/item_type_icons/maps16.png' style=\"vertical-align:middle;\">Web Map by esri_livingatlas\n",
       "                        <br/>Last Modified: april 24, 2018\n",
       "                        <br/>0 comments, 0 views\n",
       "                    </div>\n",
       "                </div>\n",
       "                "
      ],
      "text/plain": [
       "<Item title:\"Streets (with Relief - WGS84)\" type:Web Map owner:esri_livingatlas>"
      ]
     },
     "metadata": {},
     "output_type": "display_data"
    },
    {
     "data": {
      "text/html": [
       "<div class=\"item_container\" style=\"height: auto; overflow: hidden; border: 1px solid #cfcfcf; border-radius: 2px; background: #f6fafa; line-height: 1.21429em; padding: 10px;\">\n",
       "                    <div class=\"item_left\" style=\"width: 210px; float: left;\">\n",
       "                       <a href='https://maphub.statoil.net/arcgis/home//home/item.html?id=52bdc7ab7fb044d98add148764eaa30a' target='_blank'>\n",
       "                        <img src='https://maphub.statoil.net/arcgis/sharing/rest//content/items/52bdc7ab7fb044d98add148764eaa30a/info/thumbnail/ago_downloaded.png' class=\"itemThumbnail\">\n",
       "                       </a>\n",
       "                    </div>\n",
       "\n",
       "                    <div class=\"item_right\"     style=\"float: none; width: auto; overflow: hidden;\">\n",
       "                        <a href='https://maphub.statoil.net/arcgis/home//home/item.html?id=52bdc7ab7fb044d98add148764eaa30a' target='_blank'><b>Imagery (WGS84)</b>\n",
       "                        </a>\n",
       "                        <br/>This web map features satellite imagery for the world and high-resolution aerial imagery for many areas. It uses WGS84 Geographic, version 2 tiling scheme.<img src='https://maphub.statoil.net/arcgis/home/js/jsapi/esri/css/images/item_type_icons/maps16.png' style=\"vertical-align:middle;\">Web Map by esri_livingatlas\n",
       "                        <br/>Last Modified: april 24, 2018\n",
       "                        <br/>0 comments, 2 views\n",
       "                    </div>\n",
       "                </div>\n",
       "                "
      ],
      "text/plain": [
       "<Item title:\"Imagery (WGS84)\" type:Web Map owner:esri_livingatlas>"
      ]
     },
     "metadata": {},
     "output_type": "display_data"
    }
   ],
   "source": [
    "for i in items:\n",
    "    display(i)"
   ]
  },
  {
   "cell_type": "code",
   "execution_count": 12,
   "metadata": {},
   "outputs": [],
   "source": [
    "s = gis.content.search(\"Traffic\", item_type=\"Map service\", max_items=5)"
   ]
  },
  {
   "cell_type": "code",
   "execution_count": 8,
   "metadata": {},
   "outputs": [
    {
     "name": "stdout",
     "output_type": "stream",
     "text": [
      "[<Item title:\"2017 USA Long Commute Time to Work\" type:Map Image Layer owner:esri_livingatlas>, <Item title:\"World Traffic Service\" type:Map Image Layer owner:esri_livingatlas>, <Item title:\"2016 USA Long Commute Time to Work\" type:Map Image Layer owner:esri_livingatlas>]\n"
     ]
    }
   ],
   "source": [
    "print(s)"
   ]
  },
  {
   "cell_type": "code",
   "execution_count": 9,
   "metadata": {},
   "outputs": [
    {
     "ename": "AttributeError",
     "evalue": "'list' object has no attribute 'layers'",
     "output_type": "error",
     "traceback": [
      "\u001b[1;31m---------------------------------------------------------------------------\u001b[0m",
      "\u001b[1;31mAttributeError\u001b[0m                            Traceback (most recent call last)",
      "\u001b[1;32m<ipython-input-9-adb137a84363>\u001b[0m in \u001b[0;36m<module>\u001b[1;34m()\u001b[0m\n\u001b[1;32m----> 1\u001b[1;33m \u001b[0ms\u001b[0m \u001b[1;33m=\u001b[0m \u001b[0ms\u001b[0m\u001b[1;33m.\u001b[0m\u001b[0mlayers\u001b[0m\u001b[1;33m[\u001b[0m\u001b[1;36m0\u001b[0m\u001b[1;33m]\u001b[0m\u001b[1;33m\u001b[0m\u001b[0m\n\u001b[0m",
      "\u001b[1;31mAttributeError\u001b[0m: 'list' object has no attribute 'layers'"
     ]
    }
   ],
   "source": []
  },
  {
   "cell_type": "code",
   "execution_count": null,
   "metadata": {},
   "outputs": [],
   "source": []
  }
 ],
 "metadata": {
  "kernelspec": {
   "display_name": "Python 3",
   "language": "python",
   "name": "python3"
  },
  "language_info": {
   "codemirror_mode": {
    "name": "ipython",
    "version": 3
   },
   "file_extension": ".py",
   "mimetype": "text/x-python",
   "name": "python",
   "nbconvert_exporter": "python",
   "pygments_lexer": "ipython3",
   "version": "3.6.7"
  }
 },
 "nbformat": 4,
 "nbformat_minor": 2
}
